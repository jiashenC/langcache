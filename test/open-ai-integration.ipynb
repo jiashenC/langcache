{
 "cells": [
  {
   "cell_type": "code",
   "execution_count": 1,
   "metadata": {},
   "outputs": [],
   "source": [
    "# Import dependencies\n",
    "import os"
   ]
  },
  {
   "cell_type": "code",
   "execution_count": 3,
   "metadata": {},
   "outputs": [],
   "source": [
    "# get OpenAI key if needed\n",
    "\n",
    "try:\n",
    "    api_key = os.environ[\"OPENAI_API_KEY\"]\n",
    "except KeyError:\n",
    "    api_key = str(input(\"🔑 Enter your OpenAI key: \"))\n",
    "    os.environ[\"OPENAI_API_KEY\"] = api_key"
   ]
  },
  {
   "cell_type": "code",
   "execution_count": 4,
   "metadata": {},
   "outputs": [
    {
     "name": "stderr",
     "output_type": "stream",
     "text": [
      "/Users/swetavooda/workspace/langCache/langcache/langcache-venv/lib/python3.11/site-packages/sentence_transformers/SentenceTransformer.py:157: FutureWarning: Series.__getitem__ treating keys as positions is deprecated. In a future version, integer keys will always be treated as labels (consistent with DataFrame behavior). To access a value by position, use `ser.iloc[pos]`\n",
      "  sentences_sorted = [sentences[idx] for idx in length_sorted_idx]\n"
     ]
    },
    {
     "name": "stdout",
     "output_type": "stream",
     "text": [
      "QUESTION:  What is GitHub?\n",
      "GitHub is a web-based platform for version control and collaboration, focusing on code sharing and projects.\n",
      "Time taken:  1.8351471424102783\n",
      "\n",
      "\n",
      "\n"
     ]
    },
    {
     "name": "stderr",
     "output_type": "stream",
     "text": [
      "/Users/swetavooda/workspace/langCache/langcache/langcache-venv/lib/python3.11/site-packages/sentence_transformers/SentenceTransformer.py:157: FutureWarning: Series.__getitem__ treating keys as positions is deprecated. In a future version, integer keys will always be treated as labels (consistent with DataFrame behavior). To access a value by position, use `ser.iloc[pos]`\n",
      "  sentences_sorted = [sentences[idx] for idx in length_sorted_idx]\n",
      "01-25-2024 19:49:43 WARNING[create_index_executor:create_index_executor.py:_create_evadb_index:0119] Index wubhlsyqed already exists. It will be updated on existing table.\n",
      "/Users/swetavooda/workspace/langCache/langcache/langcache-venv/lib/python3.11/site-packages/sentence_transformers/SentenceTransformer.py:157: FutureWarning: Series.__getitem__ treating keys as positions is deprecated. In a future version, integer keys will always be treated as labels (consistent with DataFrame behavior). To access a value by position, use `ser.iloc[pos]`\n",
      "  sentences_sorted = [sentences[idx] for idx in length_sorted_idx]\n"
     ]
    },
    {
     "name": "stdout",
     "output_type": "stream",
     "text": [
      "QUESTION:  what are the most important concepts in databases\n",
      "Relational model, tables, primary keys, foreign keys, normalization, and query language, such as SQL.\n",
      "Time taken:  3.3530569076538086\n",
      "\n",
      "\n",
      "\n"
     ]
    },
    {
     "name": "stderr",
     "output_type": "stream",
     "text": [
      "/Users/swetavooda/workspace/langCache/langcache/langcache-venv/lib/python3.11/site-packages/sentence_transformers/SentenceTransformer.py:157: FutureWarning: Series.__getitem__ treating keys as positions is deprecated. In a future version, integer keys will always be treated as labels (consistent with DataFrame behavior). To access a value by position, use `ser.iloc[pos]`\n",
      "  sentences_sorted = [sentences[idx] for idx in length_sorted_idx]\n",
      "01-25-2024 19:49:45 WARNING[create_index_executor:create_index_executor.py:_create_evadb_index:0119] Index wubhlsyqed already exists. It will be updated on existing table.\n",
      "/Users/swetavooda/workspace/langCache/langcache/langcache-venv/lib/python3.11/site-packages/sentence_transformers/SentenceTransformer.py:157: FutureWarning: Series.__getitem__ treating keys as positions is deprecated. In a future version, integer keys will always be treated as labels (consistent with DataFrame behavior). To access a value by position, use `ser.iloc[pos]`\n",
      "  sentences_sorted = [sentences[idx] for idx in length_sorted_idx]\n"
     ]
    },
    {
     "name": "stdout",
     "output_type": "stream",
     "text": [
      "QUESTION:  can you explain what GitHub is\n",
      "GitHub is a web-based platform where developers can collaborate on and store their code repositories.\n",
      "Time taken:  2.42620587348938\n",
      "\n",
      "\n",
      "\n"
     ]
    },
    {
     "name": "stderr",
     "output_type": "stream",
     "text": [
      "/Users/swetavooda/workspace/langCache/langcache/langcache-venv/lib/python3.11/site-packages/sentence_transformers/SentenceTransformer.py:157: FutureWarning: Series.__getitem__ treating keys as positions is deprecated. In a future version, integer keys will always be treated as labels (consistent with DataFrame behavior). To access a value by position, use `ser.iloc[pos]`\n",
      "  sentences_sorted = [sentences[idx] for idx in length_sorted_idx]\n"
     ]
    },
    {
     "name": "stdout",
     "output_type": "stream",
     "text": [
      "QUESTION:  What is GitHub?\n",
      "GitHub is a web-based platform for version control and collaboration, focusing on code sharing and projects.\n",
      "Time taken:  0.9597771167755127\n",
      "\n",
      "\n",
      "\n"
     ]
    },
    {
     "name": "stderr",
     "output_type": "stream",
     "text": [
      "/Users/swetavooda/workspace/langCache/langcache/langcache-venv/lib/python3.11/site-packages/sentence_transformers/SentenceTransformer.py:157: FutureWarning: Series.__getitem__ treating keys as positions is deprecated. In a future version, integer keys will always be treated as labels (consistent with DataFrame behavior). To access a value by position, use `ser.iloc[pos]`\n",
      "  sentences_sorted = [sentences[idx] for idx in length_sorted_idx]\n",
      "01-25-2024 19:49:49 WARNING[create_index_executor:create_index_executor.py:_create_evadb_index:0119] Index wubhlsyqed already exists. It will be updated on existing table.\n",
      "/Users/swetavooda/workspace/langCache/langcache/langcache-venv/lib/python3.11/site-packages/sentence_transformers/SentenceTransformer.py:157: FutureWarning: Series.__getitem__ treating keys as positions is deprecated. In a future version, integer keys will always be treated as labels (consistent with DataFrame behavior). To access a value by position, use `ser.iloc[pos]`\n",
      "  sentences_sorted = [sentences[idx] for idx in length_sorted_idx]\n"
     ]
    },
    {
     "name": "stdout",
     "output_type": "stream",
     "text": [
      "QUESTION:  what is the purpose of GitHub\n",
      "The purpose of GitHub is to provide a platform for version control and collaboration on software development projects.\n",
      "Time taken:  2.3775222301483154\n",
      "\n",
      "\n",
      "\n"
     ]
    },
    {
     "name": "stderr",
     "output_type": "stream",
     "text": [
      "/Users/swetavooda/workspace/langCache/langcache/langcache-venv/lib/python3.11/site-packages/sentence_transformers/SentenceTransformer.py:157: FutureWarning: Series.__getitem__ treating keys as positions is deprecated. In a future version, integer keys will always be treated as labels (consistent with DataFrame behavior). To access a value by position, use `ser.iloc[pos]`\n",
      "  sentences_sorted = [sentences[idx] for idx in length_sorted_idx]\n",
      "01-25-2024 19:49:51 WARNING[create_index_executor:create_index_executor.py:_create_evadb_index:0119] Index wubhlsyqed already exists. It will be updated on existing table.\n",
      "/Users/swetavooda/workspace/langCache/langcache/langcache-venv/lib/python3.11/site-packages/sentence_transformers/SentenceTransformer.py:157: FutureWarning: Series.__getitem__ treating keys as positions is deprecated. In a future version, integer keys will always be treated as labels (consistent with DataFrame behavior). To access a value by position, use `ser.iloc[pos]`\n",
      "  sentences_sorted = [sentences[idx] for idx in length_sorted_idx]\n"
     ]
    },
    {
     "name": "stdout",
     "output_type": "stream",
     "text": [
      "QUESTION:  What's github\n",
      "GitHub is a web-based platform for version control and collaborative development of software projects.\n",
      "Time taken:  2.712510824203491\n",
      "\n",
      "\n",
      "\n"
     ]
    },
    {
     "name": "stderr",
     "output_type": "stream",
     "text": [
      "/Users/swetavooda/workspace/langCache/langcache/langcache-venv/lib/python3.11/site-packages/sentence_transformers/SentenceTransformer.py:157: FutureWarning: Series.__getitem__ treating keys as positions is deprecated. In a future version, integer keys will always be treated as labels (consistent with DataFrame behavior). To access a value by position, use `ser.iloc[pos]`\n",
      "  sentences_sorted = [sentences[idx] for idx in length_sorted_idx]\n"
     ]
    },
    {
     "name": "stdout",
     "output_type": "stream",
     "text": [
      "QUESTION:  What are the important topics to learn in databases?\n",
      "Relational model, tables, primary keys, foreign keys, normalization, and query language, such as SQL.\n",
      "Time taken:  1.801367998123169\n",
      "\n",
      "\n",
      "\n"
     ]
    },
    {
     "name": "stderr",
     "output_type": "stream",
     "text": [
      "/Users/swetavooda/workspace/langCache/langcache/langcache-venv/lib/python3.11/site-packages/sentence_transformers/SentenceTransformer.py:157: FutureWarning: Series.__getitem__ treating keys as positions is deprecated. In a future version, integer keys will always be treated as labels (consistent with DataFrame behavior). To access a value by position, use `ser.iloc[pos]`\n",
      "  sentences_sorted = [sentences[idx] for idx in length_sorted_idx]\n",
      "01-25-2024 19:49:56 WARNING[create_index_executor:create_index_executor.py:_create_evadb_index:0119] Index wubhlsyqed already exists. It will be updated on existing table.\n",
      "/Users/swetavooda/workspace/langCache/langcache/langcache-venv/lib/python3.11/site-packages/sentence_transformers/SentenceTransformer.py:157: FutureWarning: Series.__getitem__ treating keys as positions is deprecated. In a future version, integer keys will always be treated as labels (consistent with DataFrame behavior). To access a value by position, use `ser.iloc[pos]`\n",
      "  sentences_sorted = [sentences[idx] for idx in length_sorted_idx]\n"
     ]
    },
    {
     "name": "stdout",
     "output_type": "stream",
     "text": [
      "QUESTION:  List some topics to learn in databases\n",
      "- Data modeling \n",
      "- Relational databases \n",
      "- SQL \n",
      "- Query optimization \n",
      "- Indexing \n",
      "- Data normalization \n",
      "- NoSQL databases \n",
      "- Database administration \n",
      "- Database security \n",
      "- Data warehousing\n",
      "Time taken:  3.0051629543304443\n",
      "\n",
      "\n",
      "\n"
     ]
    },
    {
     "name": "stderr",
     "output_type": "stream",
     "text": [
      "/Users/swetavooda/workspace/langCache/langcache/langcache-venv/lib/python3.11/site-packages/sentence_transformers/SentenceTransformer.py:157: FutureWarning: Series.__getitem__ treating keys as positions is deprecated. In a future version, integer keys will always be treated as labels (consistent with DataFrame behavior). To access a value by position, use `ser.iloc[pos]`\n",
      "  sentences_sorted = [sentences[idx] for idx in length_sorted_idx]\n"
     ]
    },
    {
     "name": "stdout",
     "output_type": "stream",
     "text": [
      "QUESTION:  Can you tell me what Github is?\n",
      "GitHub is a web-based platform where developers can collaborate on and store their code repositories.\n",
      "Time taken:  0.9954211711883545\n",
      "\n",
      "\n",
      "\n"
     ]
    },
    {
     "name": "stderr",
     "output_type": "stream",
     "text": [
      "/Users/swetavooda/workspace/langCache/langcache/langcache-venv/lib/python3.11/site-packages/sentence_transformers/SentenceTransformer.py:157: FutureWarning: Series.__getitem__ treating keys as positions is deprecated. In a future version, integer keys will always be treated as labels (consistent with DataFrame behavior). To access a value by position, use `ser.iloc[pos]`\n",
      "  sentences_sorted = [sentences[idx] for idx in length_sorted_idx]\n",
      "01-25-2024 19:50:00 WARNING[create_index_executor:create_index_executor.py:_create_evadb_index:0119] Index wubhlsyqed already exists. It will be updated on existing table.\n",
      "/Users/swetavooda/workspace/langCache/langcache/langcache-venv/lib/python3.11/site-packages/sentence_transformers/SentenceTransformer.py:157: FutureWarning: Series.__getitem__ treating keys as positions is deprecated. In a future version, integer keys will always be treated as labels (consistent with DataFrame behavior). To access a value by position, use `ser.iloc[pos]`\n",
      "  sentences_sorted = [sentences[idx] for idx in length_sorted_idx]\n"
     ]
    },
    {
     "name": "stdout",
     "output_type": "stream",
     "text": [
      "QUESTION:  How I can speak English fluently?\n",
      "Practice speaking regularly with native English speakers and immerse yourself in the language through reading and listening.\n",
      "Time taken:  2.6009669303894043\n",
      "\n",
      "\n",
      "\n"
     ]
    },
    {
     "name": "stderr",
     "output_type": "stream",
     "text": [
      "/Users/swetavooda/workspace/langCache/langcache/langcache-venv/lib/python3.11/site-packages/sentence_transformers/SentenceTransformer.py:157: FutureWarning: Series.__getitem__ treating keys as positions is deprecated. In a future version, integer keys will always be treated as labels (consistent with DataFrame behavior). To access a value by position, use `ser.iloc[pos]`\n",
      "  sentences_sorted = [sentences[idx] for idx in length_sorted_idx]\n"
     ]
    },
    {
     "name": "stdout",
     "output_type": "stream",
     "text": [
      "QUESTION:  How can I learn to speak English fluently?\n",
      "Practice speaking regularly with native English speakers and immerse yourself in the language through reading and listening.\n",
      "Time taken:  0.9783082008361816\n",
      "\n",
      "\n",
      "\n"
     ]
    },
    {
     "name": "stderr",
     "output_type": "stream",
     "text": [
      "/Users/swetavooda/workspace/langCache/langcache/langcache-venv/lib/python3.11/site-packages/sentence_transformers/SentenceTransformer.py:157: FutureWarning: Series.__getitem__ treating keys as positions is deprecated. In a future version, integer keys will always be treated as labels (consistent with DataFrame behavior). To access a value by position, use `ser.iloc[pos]`\n",
      "  sentences_sorted = [sentences[idx] for idx in length_sorted_idx]\n",
      "01-25-2024 19:50:04 WARNING[create_index_executor:create_index_executor.py:_create_evadb_index:0119] Index wubhlsyqed already exists. It will be updated on existing table.\n",
      "/Users/swetavooda/workspace/langCache/langcache/langcache-venv/lib/python3.11/site-packages/sentence_transformers/SentenceTransformer.py:157: FutureWarning: Series.__getitem__ treating keys as positions is deprecated. In a future version, integer keys will always be treated as labels (consistent with DataFrame behavior). To access a value by position, use `ser.iloc[pos]`\n",
      "  sentences_sorted = [sentences[idx] for idx in length_sorted_idx]\n"
     ]
    },
    {
     "name": "stdout",
     "output_type": "stream",
     "text": [
      "QUESTION:  How does 3D printing work?\n",
      "3D printing works by creating objects layer by layer using melted materials like plastic or metal.\n",
      "Time taken:  3.003875732421875\n",
      "\n",
      "\n",
      "\n",
      "QUESTION:  How do 3D printing work?\n",
      "3D printing works by creating objects layer by layer using melted materials like plastic or metal.\n",
      "Time taken:  0.9676847457885742\n",
      "\n",
      "\n",
      "\n"
     ]
    },
    {
     "name": "stderr",
     "output_type": "stream",
     "text": [
      "/Users/swetavooda/workspace/langCache/langcache/langcache-venv/lib/python3.11/site-packages/sentence_transformers/SentenceTransformer.py:157: FutureWarning: Series.__getitem__ treating keys as positions is deprecated. In a future version, integer keys will always be treated as labels (consistent with DataFrame behavior). To access a value by position, use `ser.iloc[pos]`\n",
      "  sentences_sorted = [sentences[idx] for idx in length_sorted_idx]\n"
     ]
    }
   ],
   "source": [
    "import time\n",
    "from langcache.adapter.openai import OpenAI\n",
    "from langcache.core import Cache\n",
    "\n",
    "cache = Cache(tune_frequency=5, tune_policy=\"recall\")\n",
    "client = OpenAI(cache)\n",
    "\n",
    "results = []\n",
    "questions = [\"What is GitHub?\", \n",
    "             \"what are the most important concepts in databases\", \n",
    "             \"can you explain what GitHub is\", \"What is GitHub?\", \n",
    "             \"what is the purpose of GitHub\", \"What's github\", \n",
    "             \"What are the important topics to learn in databases?\", \n",
    "             \"List some topics to learn in databases\",\n",
    "             \"Can you tell me what Github is?\",\n",
    "             \"How I can speak English fluently?\",\n",
    "             \"How can I learn to speak English fluently?\",\n",
    "             \"How does 3D printing work?\",\n",
    "             \"How do 3D printing work?\"]\n",
    "for i in range(0,len(questions)):\n",
    "  start_time = time.time()\n",
    "  completion = client.chat.completions.create(\n",
    "    model=\"gpt-3.5-turbo\",\n",
    "    messages=[\n",
    "      {\"role\": \"system\", \"content\":\"You are an helpful assistant to answer all my questions within 15 words limit\"},\n",
    "      {\"role\": \"user\", \"content\": questions[i]}\n",
    "    ]\n",
    "  )\n",
    "  end_time = time.time()\n",
    "  print(\"QUESTION: \", questions[i])\n",
    "  print(completion)\n",
    "  print(\"Time taken: \", end_time-start_time)\n",
    "  print(\"\\n\\n\")\n",
    "  results.append(completion)\n",
    "  \n"
   ]
  }
 ],
 "metadata": {
  "kernelspec": {
   "display_name": "langcache-venv",
   "language": "python",
   "name": "python3"
  },
  "language_info": {
   "codemirror_mode": {
    "name": "ipython",
    "version": 3
   },
   "file_extension": ".py",
   "mimetype": "text/x-python",
   "name": "python",
   "nbconvert_exporter": "python",
   "pygments_lexer": "ipython3",
   "version": "3.11.7"
  },
  "orig_nbformat": 4
 },
 "nbformat": 4,
 "nbformat_minor": 2
}
